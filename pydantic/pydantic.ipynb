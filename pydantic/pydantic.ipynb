{
 "cells": [
  {
   "cell_type": "markdown",
   "metadata": {},
   "source": [
    "### Pydantic: Data validation using Python type hints\n",
    "\n",
    "We will learn how to get started with Pydantic, a data validation library for Python based on type annotations.\n",
    "\n",
    "Watch this Video Tutorial:\n",
    "\n",
    "Pydantic Tutorial • Solving Python's Biggest Problem"
   ]
  },
  {
   "cell_type": "code",
   "execution_count": 2,
   "metadata": {},
   "outputs": [
    {
     "name": "stdout",
     "output_type": "stream",
     "text": [
      "Requirement already satisfied: pydantic in c:\\users\\ghulam.ghaus\\.conda\\envs\\python12\\lib\\site-packages (2.5.2)\n",
      "Requirement already satisfied: annotated-types>=0.4.0 in c:\\users\\ghulam.ghaus\\.conda\\envs\\python12\\lib\\site-packages (from pydantic) (0.6.0)\n",
      "Requirement already satisfied: pydantic-core==2.14.5 in c:\\users\\ghulam.ghaus\\.conda\\envs\\python12\\lib\\site-packages (from pydantic) (2.14.5)\n",
      "Requirement already satisfied: typing-extensions>=4.6.1 in c:\\users\\ghulam.ghaus\\.conda\\envs\\python12\\lib\\site-packages (from pydantic) (4.8.0)\n",
      "Collecting email-validator\n",
      "  Downloading email_validator-2.1.0.post1-py3-none-any.whl.metadata (25 kB)\n",
      "Collecting dnspython>=2.0.0 (from email-validator)\n",
      "  Downloading dnspython-2.4.2-py3-none-any.whl.metadata (4.9 kB)\n",
      "Requirement already satisfied: idna>=2.0.0 in c:\\users\\ghulam.ghaus\\.conda\\envs\\python12\\lib\\site-packages (from email-validator) (3.6)\n",
      "Downloading email_validator-2.1.0.post1-py3-none-any.whl (32 kB)\n",
      "Downloading dnspython-2.4.2-py3-none-any.whl (300 kB)\n",
      "   ---------------------------------------- 0.0/300.4 kB ? eta -:--:--\n",
      "   - -------------------------------------- 10.2/300.4 kB ? eta -:--:--\n",
      "   - -------------------------------------- 10.2/300.4 kB ? eta -:--:--\n",
      "   - -------------------------------------- 10.2/300.4 kB ? eta -:--:--\n",
      "   - -------------------------------------- 10.2/300.4 kB ? eta -:--:--\n",
      "   - -------------------------------------- 10.2/300.4 kB ? eta -:--:--\n",
      "   - -------------------------------------- 10.2/300.4 kB ? eta -:--:--\n",
      "   ----------- --------------------------- 92.2/300.4 kB 261.7 kB/s eta 0:00:01\n",
      "   ----------- --------------------------- 92.2/300.4 kB 261.7 kB/s eta 0:00:01\n",
      "   ------------------ ------------------- 143.4/300.4 kB 327.9 kB/s eta 0:00:01\n",
      "   ------------------ ------------------- 143.4/300.4 kB 327.9 kB/s eta 0:00:01\n",
      "   ------------------ ------------------- 143.4/300.4 kB 327.9 kB/s eta 0:00:01\n",
      "   ------------------ ------------------- 143.4/300.4 kB 327.9 kB/s eta 0:00:01\n",
      "   ---------------------- --------------- 174.1/300.4 kB 283.5 kB/s eta 0:00:01\n",
      "   ------------------------------- ------ 245.8/300.4 kB 327.6 kB/s eta 0:00:01\n",
      "   ------------------------------- ------ 245.8/300.4 kB 327.6 kB/s eta 0:00:01\n",
      "   ------------------------------- ------ 245.8/300.4 kB 327.6 kB/s eta 0:00:01\n",
      "   ------------------------------- ------ 245.8/300.4 kB 327.6 kB/s eta 0:00:01\n",
      "   ------------------------------- ------ 245.8/300.4 kB 327.6 kB/s eta 0:00:01\n",
      "   ------------------------------- ------ 245.8/300.4 kB 327.6 kB/s eta 0:00:01\n",
      "   ------------------------------- ------ 245.8/300.4 kB 327.6 kB/s eta 0:00:01\n",
      "   ------------------------------------ - 286.7/300.4 kB 249.3 kB/s eta 0:00:01\n",
      "   ------------------------------------ - 286.7/300.4 kB 249.3 kB/s eta 0:00:01\n",
      "   -------------------------------------- 300.4/300.4 kB 244.2 kB/s eta 0:00:00\n",
      "Installing collected packages: dnspython, email-validator\n",
      "Successfully installed dnspython-2.4.2 email-validator-2.1.0.post1\n"
     ]
    }
   ],
   "source": [
    "!pip install pydantic\n",
    "\n",
    "!pip install email-validator"
   ]
  },
  {
   "cell_type": "code",
   "execution_count": 3,
   "metadata": {},
   "outputs": [],
   "source": [
    "from pydantic import BaseModel, EmailStr, validator"
   ]
  },
  {
   "cell_type": "markdown",
   "metadata": {},
   "source": [
    "### Create a Model:"
   ]
  },
  {
   "cell_type": "code",
   "execution_count": 10,
   "metadata": {},
   "outputs": [],
   "source": [
    "class User(BaseModel):\n",
    "    name: str\n",
    "    email: EmailStr\n",
    "    account_id: int\n",
    "\n",
    "    def validate_account_id(cls, value):\n",
    "        if(value <= 0):\n",
    "            raise(f\"Account ID must be Positive: {value}\")\n",
    "        return value"
   ]
  },
  {
   "cell_type": "code",
   "execution_count": 15,
   "metadata": {},
   "outputs": [
    {
     "name": "stdout",
     "output_type": "stream",
     "text": [
      "name='G G' email='gg@panacloud.com' account_id=1234\n"
     ]
    }
   ],
   "source": [
    "user: User = User(name=\"G G\", email=\"gg@panacloud.com\", account_id=1234)\n",
    "print(user)"
   ]
  },
  {
   "cell_type": "markdown",
   "metadata": {},
   "source": [
    "### JSON Output:"
   ]
  },
  {
   "cell_type": "code",
   "execution_count": 17,
   "metadata": {},
   "outputs": [
    {
     "name": "stdout",
     "output_type": "stream",
     "text": [
      "{\"name\":\"G G\",\"email\":\"gg@panacloud.com\",\"account_id\":1234}\n"
     ]
    }
   ],
   "source": [
    "user_json_str: str = user.model_dump_json()\n",
    "print(user_json_str)"
   ]
  },
  {
   "cell_type": "markdown",
   "metadata": {},
   "source": [
    "### Dictionary Object:"
   ]
  },
  {
   "cell_type": "code",
   "execution_count": 18,
   "metadata": {},
   "outputs": [
    {
     "name": "stdout",
     "output_type": "stream",
     "text": [
      "{'name': 'G G', 'email': 'gg@panacloud.com', 'account_id': 1234}\n"
     ]
    }
   ],
   "source": [
    "user_dict: dict = user.model_dump()\n",
    "print(user_dict)"
   ]
  },
  {
   "cell_type": "markdown",
   "metadata": {},
   "source": [
    "### Convert JSON str into Object:"
   ]
  },
  {
   "cell_type": "code",
   "execution_count": 19,
   "metadata": {},
   "outputs": [
    {
     "name": "stdout",
     "output_type": "stream",
     "text": [
      "name='G G' email='gg@panacloud.com' account_id=1234\n"
     ]
    }
   ],
   "source": [
    "user_obj : User = User.model_validate_json(user_json_str)\n",
    "print(user_obj)"
   ]
  },
  {
   "cell_type": "markdown",
   "metadata": {},
   "source": [
    "### Another Example"
   ]
  },
  {
   "cell_type": "code",
   "execution_count": 20,
   "metadata": {},
   "outputs": [
    {
     "name": "stdout",
     "output_type": "stream",
     "text": [
      "id=123 name='John Doe' signup_ts=datetime.datetime(2017, 6, 1, 12, 22) friends=[1, 2, 3]\n",
      "123\n"
     ]
    }
   ],
   "source": [
    "from datetime import datetime\n",
    "from typing import Optional\n",
    "\n",
    "class User(BaseModel):\n",
    "    id: int\n",
    "    name: str = 'John Doe'\n",
    "    signup_ts: Optional[datetime] = None\n",
    "    friends: list[int] = []\n",
    "\n",
    "external_data: dict = {'id': '123', 'signup_ts': '2017-06-01 12:22', 'friends': [1, '2', b'3']}\n",
    "user: User = User(**external_data)\n",
    "print(user)\n",
    "print(user.id)"
   ]
  }
 ],
 "metadata": {
  "kernelspec": {
   "display_name": "python12",
   "language": "python",
   "name": "python3"
  },
  "language_info": {
   "codemirror_mode": {
    "name": "ipython",
    "version": 3
   },
   "file_extension": ".py",
   "mimetype": "text/x-python",
   "name": "python",
   "nbconvert_exporter": "python",
   "pygments_lexer": "ipython3",
   "version": "3.12.0"
  }
 },
 "nbformat": 4,
 "nbformat_minor": 2
}
